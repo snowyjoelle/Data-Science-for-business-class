{
 "cells": [
  {
   "cell_type": "markdown",
   "metadata": {},
   "source": [
    "# Examples of Session 2: Data Preprocessing"
   ]
  },
  {
   "cell_type": "markdown",
   "metadata": {},
   "source": [
    "### E1. getting familiar with *pandas* library"
   ]
  },
  {
   "cell_type": "markdown",
   "metadata": {},
   "source": [
    "Review the following 10-minute introduction to *pandas*:\n",
    "\n",
    "http://pandas.pydata.org/pandas-docs/stable/10min.html"
   ]
  },
  {
   "cell_type": "markdown",
   "metadata": {
    "collapsed": true
   },
   "source": [
    "### E2. imputing missing values"
   ]
  },
  {
   "cell_type": "code",
   "execution_count": 1,
   "metadata": {
    "collapsed": false
   },
   "outputs": [
    {
     "name": "stdout",
     "output_type": "stream",
     "text": [
      "[[ 6.5  1. ]\n",
      " [ 7.   4.5]\n",
      " [ 6.   8. ]]\n"
     ]
    }
   ],
   "source": [
    "import numpy as np\n",
    "from sklearn.preprocessing import Imputer\n",
    "\n",
    "# the following data has missing values, indicated by 'nan' ... 'Not A Number'\n",
    "X = [[np.nan, 1], [7, np.nan], [6, 8]]\n",
    "\n",
    "# initialize the imputer object: axis=0 means imputation along columns, \n",
    "# asking it to replace missing values with mean of each column\n",
    "imp = Imputer(missing_values='NaN', strategy='mean', axis=0)\n",
    "\n",
    "# fit and transform to impute missing values \n",
    "#(could be combined both using fit_transform function)\n",
    "imp.fit(X)\n",
    "print(imp.transform(X))                           "
   ]
  },
  {
   "cell_type": "markdown",
   "metadata": {},
   "source": [
    "### E3. standardization"
   ]
  },
  {
   "cell_type": "code",
   "execution_count": 7,
   "metadata": {
    "collapsed": false
   },
   "outputs": [
    {
     "name": "stdout",
     "output_type": "stream",
     "text": [
      "[[ 1. -2.  2.]\n",
      " [ 3.  0.  1.]\n",
      " [ 0.  4. -2.]]\n"
     ]
    }
   ],
   "source": [
    "from sklearn import preprocessing\n",
    "\n",
    "# raw data (not yet standardized)\n",
    "X = np.array([[ 1., -2.,  2.],[ 3.,  0.,  1.],[ 0.,  4., -2.]])\n",
    "print(X)"
   ]
  },
  {
   "cell_type": "code",
   "execution_count": 8,
   "metadata": {
    "collapsed": false
   },
   "outputs": [
    {
     "name": "stdout",
     "output_type": "stream",
     "text": [
      "[[-0.26726124 -1.06904497  0.98058068]\n",
      " [ 1.33630621 -0.26726124  0.39223227]\n",
      " [-1.06904497  1.33630621 -1.37281295]]\n"
     ]
    }
   ],
   "source": [
    "# standardize data to have mean of 0 and standard deviation of 1\n",
    "X_scaled = preprocessing.scale(X)\n",
    "print (X_scaled)"
   ]
  },
  {
   "cell_type": "code",
   "execution_count": 9,
   "metadata": {
    "collapsed": false
   },
   "outputs": [
    {
     "data": {
      "text/plain": [
       "array([  7.40148683e-17,   7.40148683e-17,   0.00000000e+00])"
      ]
     },
     "execution_count": 9,
     "metadata": {},
     "output_type": "execute_result"
    }
   ],
   "source": [
    "# check mean\n",
    "X_scaled.mean(axis=0)"
   ]
  },
  {
   "cell_type": "code",
   "execution_count": 10,
   "metadata": {
    "collapsed": false
   },
   "outputs": [
    {
     "data": {
      "text/plain": [
       "array([ 1.,  1.,  1.])"
      ]
     },
     "execution_count": 10,
     "metadata": {},
     "output_type": "execute_result"
    }
   ],
   "source": [
    "# check standard deviation\n",
    "X_scaled.std(axis=0)"
   ]
  },
  {
   "cell_type": "code",
   "execution_count": 11,
   "metadata": {
    "collapsed": false
   },
   "outputs": [
    {
     "data": {
      "text/plain": [
       "array([[ 0.33333333,  0.        ,  1.        ],\n",
       "       [ 1.        ,  0.33333333,  0.75      ],\n",
       "       [ 0.        ,  1.        ,  0.        ]])"
      ]
     },
     "execution_count": 11,
     "metadata": {},
     "output_type": "execute_result"
    }
   ],
   "source": [
    "# non-standard data\n",
    "X = [[ 1., -2.,  2.],[ 3.,  0.,  1.],[ 0.,  4., -2.]]\n",
    "\n",
    "# making data standard by limiting its range between a min and a max value (0 and 1 by default)\n",
    "min_max_scaler = preprocessing.MinMaxScaler()\n",
    "X_train_minmax = min_max_scaler.fit_transform(X)\n",
    "X_train_minmax"
   ]
  },
  {
   "cell_type": "markdown",
   "metadata": {},
   "source": [
    "### E4. normalization"
   ]
  },
  {
   "cell_type": "code",
   "execution_count": 6,
   "metadata": {
    "collapsed": false
   },
   "outputs": [
    {
     "data": {
      "text/plain": [
       "array([[ 0.33333333, -0.66666667,  0.66666667],\n",
       "       [ 0.9486833 ,  0.        ,  0.31622777],\n",
       "       [ 0.        ,  0.89442719, -0.4472136 ]])"
      ]
     },
     "execution_count": 6,
     "metadata": {},
     "output_type": "execute_result"
    }
   ],
   "source": [
    "from sklearn import preprocessing\n",
    "\n",
    "# data for which the L2 norm is not equal to 1\n",
    "X = [[ 1., -2.,  2.],[ 3.,  0.,  1.],[ 0.,  4., -2.]]\n",
    "\n",
    "# transforming data such that the L2 norm is then equal to 1\n",
    "X_normalized = preprocessing.normalize(X, norm='l2')\n",
    "X_normalized             "
   ]
  },
  {
   "cell_type": "markdown",
   "metadata": {},
   "source": [
    "### E5. encoding categorical features"
   ]
  },
  {
   "cell_type": "code",
   "execution_count": 1,
   "metadata": {
    "collapsed": false
   },
   "outputs": [
    {
     "name": "stdout",
     "output_type": "stream",
     "text": [
      "[[ 1.  0.  0.  1.  0.  0.  0.  0.  1.]]\n"
     ]
    }
   ],
   "source": [
    "from sklearn import preprocessing\n",
    "\n",
    "# categorical data with no ordering semantics\n",
    "X = [[1, 0, 3], [0, 1, 0], [0, 0, 1], [1, 2, 2]]\n",
    "\n",
    "# using one hot encoder to encode new categorical samples using a binary array\n",
    "# it encodes a categorical feature with m different categories \n",
    "# into m binary features where only one of them is active for each sample\n",
    "enc = preprocessing.OneHotEncoder()\n",
    "enc.fit(X)  \n",
    "\n",
    "# item representations: item 1 -> first two bits, item 2 -> next 3 bits, item 3 -> last 4 bits\n",
    "print(enc.transform([[0, 1, 3]]).toarray())"
   ]
  },
  {
   "cell_type": "markdown",
   "metadata": {},
   "source": [
    "### E6. text feature extraction using gensim library [in class]"
   ]
  },
  {
   "cell_type": "code",
   "execution_count": 2,
   "metadata": {
    "collapsed": false
   },
   "outputs": [
    {
     "name": "stdout",
     "output_type": "stream",
     "text": [
      "[['human', 'interface', 'computer'],\n",
      " ['survey', 'user', 'computer', 'system', 'response', 'time'],\n",
      " ['eps', 'user', 'interface', 'system'],\n",
      " ['system', 'human', 'system', 'eps'],\n",
      " ['user', 'response', 'time'],\n",
      " ['trees'],\n",
      " ['graph', 'trees'],\n",
      " ['graph', 'minors', 'trees'],\n",
      " ['graph', 'minors', 'survey']]\n"
     ]
    }
   ],
   "source": [
    "# taken from gensim documentations\n",
    "# modified for pedagigical purposes by Omid Shahmirzadi\n",
    "\n",
    "# you need to install gensim for this example:\n",
    "from gensim import corpora, models\n",
    "\n",
    "# our corpus to be transformed into its corresponding bag of words representation\n",
    "documents = [\"Human machine interface for lab abc computer applications\",\n",
    "             \"A survey of user opinion of computer system response time\",\n",
    "             \"The EPS user interface management system\",\n",
    "             \"System and human system engineering testing of EPS\",              \n",
    "             \"Relation of user perceived response time to error measurement\",\n",
    "             \"The generation of random binary unordered trees\",\n",
    "             \"The intersection graph of paths in trees\",\n",
    "             \"Graph minors IV Widths of trees and well quasi ordering\",\n",
    "             \"Graph minors A survey\"]\n",
    "\n",
    "# remove common words and tokenize\n",
    "stoplist = set('for a of the and to in'.split())\n",
    "texts = [[word for word in document.lower().split() if word not in stoplist]\n",
    "        for document in documents]\n",
    "\n",
    "# remove words that appear only once\n",
    "from collections import defaultdict\n",
    "frequency = defaultdict(int)\n",
    "for text in texts:\n",
    "    for token in text:\n",
    "        frequency[token] += 1\n",
    "\n",
    "texts = [[token for token in text if frequency[token] > 1] for text in texts]\n",
    "\n",
    "# pretty printer\n",
    "from pprint import pprint\n",
    "pprint(texts)"
   ]
  },
  {
   "cell_type": "code",
   "execution_count": 3,
   "metadata": {
    "collapsed": false
   },
   "outputs": [
    {
     "name": "stdout",
     "output_type": "stream",
     "text": [
      "Dictionary(12 unique tokens: ['system', 'human', 'user', 'survey', 'computer']...)\n"
     ]
    }
   ],
   "source": [
    "dictionary = corpora.Dictionary(texts)\n",
    "print(dictionary)"
   ]
  },
  {
   "cell_type": "code",
   "execution_count": 4,
   "metadata": {
    "collapsed": false
   },
   "outputs": [
    {
     "name": "stdout",
     "output_type": "stream",
     "text": [
      "{'system': 3, 'human': 0, 'user': 4, 'survey': 6, 'computer': 2, 'eps': 8, 'response': 5, 'trees': 9, 'time': 7, 'interface': 1, 'minors': 11, 'graph': 10}\n"
     ]
    }
   ],
   "source": [
    "print(dictionary.token2id)"
   ]
  },
  {
   "cell_type": "code",
   "execution_count": 5,
   "metadata": {
    "collapsed": false
   },
   "outputs": [
    {
     "name": "stdout",
     "output_type": "stream",
     "text": [
      "[(0, 1), (2, 1)]\n"
     ]
    }
   ],
   "source": [
    "# convert a new document in bag of words representation\n",
    "new_doc = \"Human computer interaction\"\n",
    "new_vec = dictionary.doc2bow(new_doc.lower().split())\n",
    "print(new_vec)  # the word \"interaction\" does not appear in the dictionary and is ignored"
   ]
  },
  {
   "cell_type": "code",
   "execution_count": 6,
   "metadata": {
    "collapsed": false
   },
   "outputs": [
    {
     "name": "stdout",
     "output_type": "stream",
     "text": [
      "[(0, 1), (1, 1), (2, 1)]\n",
      "[(2, 1), (3, 1), (4, 1), (5, 1), (6, 1), (7, 1)]\n",
      "[(1, 1), (3, 1), (4, 1), (8, 1)]\n",
      "[(0, 1), (3, 2), (8, 1)]\n",
      "[(4, 1), (5, 1), (7, 1)]\n",
      "[(9, 1)]\n",
      "[(9, 1), (10, 1)]\n",
      "[(9, 1), (10, 1), (11, 1)]\n",
      "[(6, 1), (10, 1), (11, 1)]\n"
     ]
    }
   ],
   "source": [
    "# compare all documents to bag of words representation with their corresponding tf\n",
    "corpus = [dictionary.doc2bow(text) for text in texts]\n",
    "for c in corpus:\n",
    "    print(c)"
   ]
  },
  {
   "cell_type": "code",
   "execution_count": 7,
   "metadata": {
    "collapsed": false
   },
   "outputs": [
    {
     "name": "stdout",
     "output_type": "stream",
     "text": [
      "[(0, 0.5773502691896257), (1, 0.5773502691896257), (2, 0.5773502691896257)]\n",
      "[(2, 0.44424552527467465), (3, 0.3244870206138554), (4, 0.3244870206138554), (5, 0.44424552527467465), (6, 0.44424552527467465), (7, 0.44424552527467465)]\n",
      "[(1, 0.5710059809418182), (3, 0.4170757362022777), (4, 0.4170757362022777), (8, 0.5710059809418182)]\n",
      "[(0, 0.49182558987264147), (3, 0.7184811607083769), (8, 0.49182558987264147)]\n",
      "[(4, 0.45889394536615247), (5, 0.6282580468670046), (7, 0.6282580468670046)]\n",
      "[(9, 1.0)]\n",
      "[(9, 0.7071067811865475), (10, 0.7071067811865475)]\n",
      "[(9, 0.5080429008916749), (10, 0.5080429008916749), (11, 0.695546419520037)]\n",
      "[(6, 0.6282580468670046), (10, 0.45889394536615247), (11, 0.6282580468670046)]\n"
     ]
    }
   ],
   "source": [
    "# convert the above corpus to their corresponding tf-idf representation \n",
    "# (l2 normalization is done implicitely)\n",
    "tfidf = models.TfidfModel(corpus)\n",
    "for c in corpus:\n",
    "    print(tfidf[c])"
   ]
  }
 ],
 "metadata": {
  "anaconda-cloud": {},
  "kernelspec": {
   "display_name": "Python 3",
   "language": "python",
   "name": "python3"
  },
  "language_info": {
   "codemirror_mode": {
    "name": "ipython",
    "version": 3
   },
   "file_extension": ".py",
   "mimetype": "text/x-python",
   "name": "python",
   "nbconvert_exporter": "python",
   "pygments_lexer": "ipython3",
   "version": "3.6.0"
  }
 },
 "nbformat": 4,
 "nbformat_minor": 1
}
